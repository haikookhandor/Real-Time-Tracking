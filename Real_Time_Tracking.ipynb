{
 "cells": [
  {
   "attachments": {},
   "cell_type": "markdown",
   "metadata": {},
   "source": [
    "### **Real Time Tracking**"
   ]
  },
  {
   "attachments": {},
   "cell_type": "markdown",
   "metadata": {},
   "source": [
    "Based in the research papers listed below:\n",
    "1. https://ieeexplore.ieee.org/stamp/stamp.jsp?tp=&arnumber=784637&tag=1\n",
    "2. https://www.sciencedirect.com/science/article/abs/pii/S1574013718303101?casa_token=i9zjlPDZ3f8AAAAA:nzHOeOqRaRKApweuMYSKDrhepsn8YmcsQwYcpweVGzVNiBPWxZ6opSYPadqOj6WW83ZBtD6z\n",
    "3. https://hal.archives-ouvertes.fr/hal-00338206/en/"
   ]
  },
  {
   "attachments": {},
   "cell_type": "markdown",
   "metadata": {},
   "source": [
    "Algorithm implemented on stock free video from https://mixkit.co/free-stock-video/highway-traffic-seen-through-drone-611/"
   ]
  },
  {
   "cell_type": "markdown",
   "metadata": {},
   "source": [
    "Necessary imports"
   ]
  },
  {
   "cell_type": "code",
   "execution_count": 5,
   "metadata": {},
   "outputs": [],
   "source": [
    "import numpy as np\n",
    "import cv2\n",
    "from matplotlib import pyplot as plt\n",
    "from scipy import stats as st"
   ]
  },
  {
   "cell_type": "markdown",
   "metadata": {},
   "source": [
    "Taking note of the params of the video for frame extraction"
   ]
  },
  {
   "cell_type": "code",
   "execution_count": 6,
   "metadata": {},
   "outputs": [
    {
     "name": "stdout",
     "output_type": "stream",
     "text": [
      "\n",
      "fps = 25.0\n",
      "\n",
      "Size = (162, 288)\n"
     ]
    }
   ],
   "source": [
    "videoCapture = cv2.VideoCapture(r\"final-2.mpg\") #Opens a video file in our case for video capturing\n",
    "videoCapture.set(cv2.CAP_PROP_FRAME_HEIGHT, 120) #Sets height of the frame in the video \n",
    "videoCapture.set(cv2.CAP_PROP_FRAME_WIDTH, 176) #Sets width of the frame in the video \n",
    "fps  = videoCapture.get(cv2.CAP_PROP_FPS) #returns the frame rate of the video\n",
    "size = (int(videoCapture.get(cv2.CAP_PROP_FRAME_HEIGHT)), int(videoCapture.get(cv2.CAP_PROP_FRAME_WIDTH)));\n",
    "print(\"\\nfps =\", fps) #fps = frames per second\n",
    "print(\"\\nSize =\",size) #Size of the video\n",
    "success, frame = videoCapture.read() #returns the next input frame"
   ]
  },
  {
   "cell_type": "markdown",
   "metadata": {},
   "source": [
    "Frame Extraction"
   ]
  },
  {
   "cell_type": "code",
   "execution_count": 7,
   "metadata": {},
   "outputs": [
    {
     "name": "stdout",
     "output_type": "stream",
     "text": [
      "Total number of frames extracted from video =  50\n"
     ]
    }
   ],
   "source": [
    "# Create the frames from the given video\n",
    "num_frames = 0\n",
    "while success:\n",
    "    cv2.imwrite(r\"frames/frame%d.jpg\" % num_frames, frame) # Saving the frames with num_frames\n",
    "    num_frames += 1    \n",
    "    success, frame = videoCapture.read()\n",
    "print(\"Total number of frames extracted from video = \", num_frames)"
   ]
  },
  {
   "cell_type": "markdown",
   "metadata": {},
   "source": [
    "Copying frames for foreground and background"
   ]
  },
  {
   "cell_type": "code",
   "execution_count": 8,
   "metadata": {},
   "outputs": [
    {
     "name": "stdout",
     "output_type": "stream",
     "text": [
      "50\n"
     ]
    }
   ],
   "source": [
    "frame_arr_fg = np.zeros((num_frames, size[0], size[1]), dtype = int) # Numpy ndarray for foreground\n",
    "frame_arr_bg = np.zeros((num_frames, size[0], size[1]), dtype = float) # Numpy ndarray for background\n",
    "frame_no = 0\n",
    "while frame_no < num_frames:\n",
    "    curr_frame = cv2.imread(r\"frames/frame{}.jpg\".format(frame_no), cv2.IMREAD_GRAYSCALE) #read from frame\n",
    "    frame_arr_fg[frame_no] = np.copy(curr_frame)\n",
    "    frame_arr_bg[frame_no] = np.copy(curr_frame)\n",
    "    frame_no+=1 \n",
    "print(frame_no) #sanity check"
   ]
  },
  {
   "cell_type": "markdown",
   "metadata": {},
   "source": [
    "Model Hyperparameters"
   ]
  },
  {
   "cell_type": "code",
   "execution_count": 9,
   "metadata": {},
   "outputs": [],
   "source": [
    "r_result = 255*(np.ones((num_frames, size[0], size[1]), dtype = int))  \n",
    "threshold = 0.70\n",
    "num_gaussian = 5 # number of Gaussians for each pixel\n",
    "alpha = 0.2 #Learning rate for updation"
   ]
  },
  {
   "cell_type": "markdown",
   "metadata": {},
   "source": [
    "The Main Algorithm - We are iterating through each frame pixel wise i.e. if there are 50 frames and the number of pixels are 162 cross 288, then it will parse through all the fifty frames 162x288 times each frame. Then we initialize all the params of the gaussians in a 5 cross the number of gaussians defined per pixel. We store the mean, variance, distance and the weight arrays as per the research paper. We match the gaussians of those frame pixels who lie within +-2.5 sigma of the gaussians representing the pixel. If there is no such gaussian, then we replace the least weighted gaussian and add this gaussian to the pixel representation. After this process we change the values of the params as per the research paper. In the end we form the frames from the array and convert them to a video to look at the background and foreground extraction."
   ]
  },
  {
   "cell_type": "code",
   "execution_count": 10,
   "metadata": {},
   "outputs": [
    {
     "name": "stdout",
     "output_type": "stream",
     "text": [
      "0\n"
     ]
    },
    {
     "name": "stderr",
     "output_type": "stream",
     "text": [
      "C:\\Users\\Haikoo\\AppData\\Local\\Temp\\ipykernel_15216\\2893266977.py:22: RuntimeWarning: invalid value encountered in double_scalars\n",
      "  params[gaussian,4] = params[gaussian,3] / np.sqrt(params[gaussian,1])\n",
      "C:\\Users\\Haikoo\\AppData\\Local\\Temp\\ipykernel_15216\\2893266977.py:30: RuntimeWarning: invalid value encountered in sqrt\n",
      "  params[gaussian,2] = 2.5 * np.sqrt(params[gaussian,1])\n",
      "C:\\Users\\Haikoo\\AppData\\Local\\Temp\\ipykernel_15216\\2893266977.py:32: RuntimeWarning: invalid value encountered in sqrt\n",
      "  params[gaussian,4] = params[gaussian,3] / np.sqrt(params[gaussian,1])\n"
     ]
    },
    {
     "name": "stdout",
     "output_type": "stream",
     "text": [
      "1\n"
     ]
    },
    {
     "name": "stderr",
     "output_type": "stream",
     "text": [
      "C:\\Users\\Haikoo\\AppData\\Local\\Temp\\ipykernel_15216\\2893266977.py:11: RuntimeWarning: divide by zero encountered in double_scalars\n",
      "  params[0,4] = params[0,3] / np.sqrt(params[0,1]) # distance\n",
      "C:\\Users\\Haikoo\\AppData\\Local\\Temp\\ipykernel_15216\\2893266977.py:55: RuntimeWarning: invalid value encountered in double_scalars\n",
      "  sum = params[gaussian, 0] * params[gaussian, 4]\n"
     ]
    },
    {
     "name": "stdout",
     "output_type": "stream",
     "text": [
      "2\n",
      "3\n",
      "4\n",
      "5\n",
      "6\n",
      "7\n",
      "8\n",
      "9\n",
      "10\n",
      "11\n",
      "12\n",
      "13\n",
      "14\n",
      "15\n",
      "16\n",
      "17\n",
      "18\n",
      "19\n",
      "20\n",
      "21\n",
      "22\n",
      "23\n",
      "24\n",
      "25\n",
      "26\n",
      "27\n",
      "28\n",
      "29\n",
      "30\n",
      "31\n",
      "32\n",
      "33\n",
      "34\n",
      "35\n",
      "36\n",
      "37\n",
      "38\n",
      "39\n",
      "40\n",
      "41\n",
      "42\n",
      "43\n",
      "44\n",
      "45\n",
      "46\n",
      "47\n",
      "48\n",
      "49\n",
      "50\n",
      "51\n",
      "52\n",
      "53\n",
      "54\n",
      "55\n",
      "56\n",
      "57\n",
      "58\n",
      "59\n",
      "60\n",
      "61\n",
      "62\n",
      "63\n",
      "64\n",
      "65\n",
      "66\n",
      "67\n",
      "68\n",
      "69\n",
      "70\n",
      "71\n",
      "72\n",
      "73\n",
      "74\n",
      "75\n",
      "76\n",
      "77\n",
      "78\n",
      "79\n",
      "80\n",
      "81\n",
      "82\n",
      "83\n",
      "84\n",
      "85\n",
      "86\n",
      "87\n",
      "88\n",
      "89\n",
      "90\n",
      "91\n",
      "92\n",
      "93\n",
      "94\n",
      "95\n",
      "96\n",
      "97\n",
      "98\n",
      "99\n",
      "100\n",
      "101\n",
      "102\n",
      "103\n",
      "104\n",
      "105\n",
      "106\n",
      "107\n",
      "108\n",
      "109\n",
      "110\n",
      "111\n",
      "112\n",
      "113\n",
      "114\n",
      "115\n",
      "116\n",
      "117\n",
      "118\n",
      "119\n",
      "120\n",
      "121\n",
      "122\n",
      "123\n",
      "124\n",
      "125\n",
      "126\n",
      "127\n",
      "128\n",
      "129\n",
      "130\n",
      "131\n",
      "132\n",
      "133\n",
      "134\n",
      "135\n",
      "136\n",
      "137\n",
      "138\n",
      "139\n",
      "140\n",
      "141\n",
      "142\n",
      "143\n",
      "144\n",
      "145\n",
      "146\n",
      "147\n",
      "148\n",
      "149\n",
      "150\n",
      "151\n",
      "152\n",
      "153\n",
      "154\n",
      "155\n",
      "156\n",
      "157\n",
      "158\n",
      "159\n",
      "160\n",
      "161\n"
     ]
    }
   ],
   "source": [
    "for i in range(0,size[0]):\n",
    "    print(i)\n",
    "    \n",
    "    for j in range(0,size[1]): # For each pixel(i, j), prepare a GMM with all frames(50) here\t   \n",
    "        fr_no = frame_arr_fg[0:num_frames, i, j]\n",
    "        params = np.zeros((num_gaussian, 5), dtype = float) # Store the mean, variance, distance and weight array for each pixel\n",
    "        params[0,0] = np.mean(fr_no) # mean\n",
    "        params[0,1] = np.var(fr_no) # variance\n",
    "        params[0,2] = 2.5 * np.sqrt(params[0,1]) # +-2.5 sigma range\n",
    "        params[0,3] = 1 # weight\n",
    "        params[0,4] = params[0,3] / np.sqrt(params[0,1]) # distance \n",
    "        rho = 0 # second-learning rate\n",
    "        frame = 0\t\t\n",
    "        for frame in range(0,num_frames-1):\n",
    "            temp_frame = frame_arr_fg[frame, i, j] # pixel i,j in num_frames = frame\n",
    "            for gaussian in range(0, num_gaussian):        \n",
    "                if ((params[gaussian,3] == 0) or (gaussian == num_gaussian - 1)): \n",
    "                    params[gaussian,0] = temp_frame\n",
    "                    params[gaussian,1] =  params[gaussian,1] * 10\n",
    "                    params[gaussian,2] = 2.5 * np.sqrt(params[gaussian,1])\n",
    "                    params[gaussian,3] = params[gaussian,3] / 10\n",
    "                    params[gaussian,4] = params[gaussian,3] / np.sqrt(params[gaussian,1])\n",
    "                    \n",
    "                if ((temp_frame < params[gaussian,0] + params[gaussian,2]) and (temp_frame > params[gaussian,0] - params[gaussian,2])): # checking whether the new frame pixel lies within 2.5 quantile range i.e. within 2.5 sigma or not\n",
    "                    sd = st.norm.pdf(params[gaussian,0], temp_frame, np.sqrt(params[gaussian,1])) # new gaussian with mean and standard deviation\n",
    "                    rho = alpha * sd # second-learning rate\n",
    "                    #updation of parameters on matching of gaussian\n",
    "                    params[gaussian,0] = (1 - rho) * params[gaussian,0] + rho * (temp_frame)\n",
    "                    params[gaussian,1] =  (1 - rho) * params[0,1] + rho * (temp_frame - params[gaussian,0]) ** 2\n",
    "                    params[gaussian,2] = 2.5 * np.sqrt(params[gaussian,1])\n",
    "                    params[gaussian,3] += alpha \n",
    "                    params[gaussian,4] = params[gaussian,3] / np.sqrt(params[gaussian,1]) \n",
    "                              \n",
    "            for gaussian in range(0, num_gaussian): # updating the weights \n",
    "                params[gaussian,3] = (1 - alpha) * params[gaussian,3]\n",
    "                  \n",
    "            newarray = sorted(params, key=lambda x:x[4]) # sorting the params based on weight\n",
    "            params = np.vstack(newarray)\n",
    "            sum = 0.0\n",
    "            max_gaussian = 0\n",
    "        \n",
    "            for gaussian in range(0, num_gaussian): # verify if it is foreground or background\n",
    "                sum = sum + params[gaussian,3]\n",
    "                if (sum > threshold):\n",
    "                    max_gaussian = gaussian\n",
    "                    break\n",
    "            \n",
    "            # verify if it is foreground or background\n",
    "            sum = 0\n",
    "            for gaussian in range(max_gaussian,num_gaussian):\n",
    "                if ((temp_frame < params[gaussian,0] + params[gaussian,2]) and\n",
    "                    (temp_frame > params[gaussian,0] - params[gaussian,2])):\n",
    "                    r_result[frame][i][j] = 0\n",
    "                    \n",
    "                sum = params[gaussian, 0] * params[gaussian, 4]\n",
    "                break\n",
    "            frame_arr_bg[frame][i][j] = sum"
   ]
  },
  {
   "cell_type": "markdown",
   "metadata": {},
   "source": [
    "Recreate the frames from the resultant matrices"
   ]
  },
  {
   "cell_type": "code",
   "execution_count": 11,
   "metadata": {},
   "outputs": [],
   "source": [
    "for index in range(r_result.shape[0]):\n",
    "    cv2.imwrite(\"final/new_file\"+str(index)+\".jpeg\",r_result[index])\n",
    "    \n",
    "for index in range(frame_arr_bg.shape[0]):\n",
    "    cv2.imwrite(\"final/new_frame\"+str(index)+\".jpeg\",frame_arr_bg[index])"
   ]
  },
  {
   "cell_type": "markdown",
   "metadata": {},
   "source": [
    "Forming the video for foreground and background respectively. The moving cars are the foreground since they are the ones which account for the maximum variance which in turn leads to matching distributions and this helps to detect the moving object since its gaussians change faster over time. The background is relatively simple since not much changes so variance is less so it remains there. This accounts for the Real-Time aspect of the algorithm. "
   ]
  },
  {
   "cell_type": "code",
   "execution_count": 12,
   "metadata": {},
   "outputs": [],
   "source": [
    "fps = 20\n",
    "\n",
    "frame_array = [] # storing the frames produced\n",
    "\n",
    "for filename in range(0,50):\n",
    "    img = cv2.imread(r\"final/new_file{}.jpeg\".format(filename)) #reading the frame\n",
    "    height, width, layers = img.shape\n",
    "    size = (width,height)\n",
    "    frame_array.append(img) #appending the frames one after the other\n",
    "bg = cv2.VideoWriter(\"final/fg.avi\",cv2.VideoWriter_fourcc(*'DIVX'), fps, size)\n",
    "for i in range(len(frame_array)):\n",
    "    bg.write(frame_array[i]) #adding the frames for video\n",
    "        \n",
    "frame_array = [] # storing the frames produced\n",
    "\n",
    "for filename in range(0,50):\n",
    "    img = cv2.imread(r\"final/new_frame{}.jpeg\".format(filename)) #reading each frames\n",
    "    \n",
    "    height, width, layers = img.shape\n",
    "    size = (width,height)\n",
    "    frame_array.append(img) #appending the frames one after the other\n",
    "fg = cv2.VideoWriter(\"final/bg.avi\",cv2.VideoWriter_fourcc(*'DIVX'), fps, size)\n",
    "for i in range(len(frame_array)):\n",
    "    fg.write(frame_array[i]) #adding the frames for video\n",
    "    \n",
    "bg.release()                  \n",
    "fg.release()"
   ]
  }
 ],
 "metadata": {
  "kernelspec": {
   "display_name": "Python 3",
   "language": "python",
   "name": "python3"
  },
  "language_info": {
   "codemirror_mode": {
    "name": "ipython",
    "version": 3
   },
   "file_extension": ".py",
   "mimetype": "text/x-python",
   "name": "python",
   "nbconvert_exporter": "python",
   "pygments_lexer": "ipython3",
   "version": "3.10.8"
  },
  "orig_nbformat": 4,
  "vscode": {
   "interpreter": {
    "hash": "d543f60cff841ffc10fbcfb67019dfd990d6e16400710f57c6904c04c486b9a4"
   }
  }
 },
 "nbformat": 4,
 "nbformat_minor": 2
}
